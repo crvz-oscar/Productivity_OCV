{
  "nbformat": 4,
  "nbformat_minor": 0,
  "metadata": {
    "colab": {
      "provenance": []
    },
    "kernelspec": {
      "name": "python3",
      "display_name": "Python 3"
    },
    "language_info": {
      "name": "python"
    }
  },
  "cells": [
    {
      "cell_type": "code",
      "execution_count": null,
      "metadata": {
        "id": "RhdI9ipgCK_r"
      },
      "outputs": [],
      "source": [
        "def separar_dataframe_por_categoria(CI_df, columna_categoria, archivo_salida):\n",
        "    \"\"\"\n",
        "    Separa un DataFrame en múltiples hojas de Excel, una por cada categoría única en una columna específica.\n",
        "\n",
        "    Args:\n",
        "        CI_df: El DataFrame a separar.\n",
        "        columna_categoria: El nombre de la columna que contiene las categorías.\n",
        "        archivo_salida: El nombre del archivo Excel de salida.\n",
        "    \"\"\"\n",
        "\n",
        "    # Obtener las categorías únicas\n",
        "    categorias = CI_df[columna_categoria].unique()\n",
        "\n",
        "    # Crear un nuevo libro de Excel\n",
        "    writer = pd.ExcelWriter(archivo_salida, engine='xlsxwriter')\n",
        "\n",
        "    # Iterar sobre cada categoría y crear una hoja nueva\n",
        "    for categoria in categorias:\n",
        "        df_categoria = CI_df[CI_df[columna_categoria] == categoria]\n",
        "        df_categoria.to_excel(writer, sheet_name=str(categoria), index=False)\n",
        "\n",
        "    # Guardar el libro de Excel\n",
        "    writer.close()"
      ]
    }
  ]
}